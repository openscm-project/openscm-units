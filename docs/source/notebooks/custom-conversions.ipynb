{
 "cells": [
  {
   "cell_type": "markdown",
   "id": "446173ed",
   "metadata": {},
   "source": [
    "# Custom conversions\n",
    "\n",
    "Here we show how custom conversions can be passed to OpenSCM-Units' `ScmUnitRegistry`."
   ]
  },
  {
   "cell_type": "code",
   "execution_count": 1,
   "id": "cd0c599a",
   "metadata": {},
   "outputs": [],
   "source": [
    "# NBVAL_IGNORE_OUTPUT\n",
    "import traceback\n",
    "\n",
    "import pandas as pd\n",
    "\n",
    "from openscm_units import ScmUnitRegistry"
   ]
  },
  {
   "cell_type": "markdown",
   "id": "711f59c0",
   "metadata": {},
   "source": [
    "## Custom conversions DataFrame\n",
    "\n",
    "On initialisation, a `pd.DataFrame` can be provided which contains the custom conversions. This `pd.DataFrame` should be formatted as shown below, with an index that contains the different species and columns which contain the conversion for different metrics."
   ]
  },
  {
   "cell_type": "code",
   "execution_count": 2,
   "id": "a6ed71c3",
   "metadata": {},
   "outputs": [
    {
     "data": {
      "text/html": [
       "<div>\n",
       "<style scoped>\n",
       "    .dataframe tbody tr th:only-of-type {\n",
       "        vertical-align: middle;\n",
       "    }\n",
       "\n",
       "    .dataframe tbody tr th {\n",
       "        vertical-align: top;\n",
       "    }\n",
       "\n",
       "    .dataframe thead th {\n",
       "        text-align: right;\n",
       "    }\n",
       "</style>\n",
       "<table border=\"1\" class=\"dataframe\">\n",
       "  <thead>\n",
       "    <tr style=\"text-align: right;\">\n",
       "      <th></th>\n",
       "      <th>Custom1</th>\n",
       "      <th>Custom2</th>\n",
       "    </tr>\n",
       "    <tr>\n",
       "      <th>Species</th>\n",
       "      <th></th>\n",
       "      <th></th>\n",
       "    </tr>\n",
       "  </thead>\n",
       "  <tbody>\n",
       "    <tr>\n",
       "      <th>CH4</th>\n",
       "      <td>20</td>\n",
       "      <td>25</td>\n",
       "    </tr>\n",
       "    <tr>\n",
       "      <th>N2O</th>\n",
       "      <td>341</td>\n",
       "      <td>300</td>\n",
       "    </tr>\n",
       "  </tbody>\n",
       "</table>\n",
       "</div>"
      ],
      "text/plain": [
       "         Custom1  Custom2\n",
       "Species                  \n",
       "CH4           20       25\n",
       "N2O          341      300"
      ]
     },
     "execution_count": 2,
     "metadata": {},
     "output_type": "execute_result"
    }
   ],
   "source": [
    "metric_conversions_custom = pd.DataFrame([\n",
    "    {\n",
    "        \"Species\": \"CH4\",\n",
    "        \"Custom1\": 20,\n",
    "        \"Custom2\": 25,\n",
    "    },\n",
    "    {\n",
    "        \"Species\": \"N2O\",\n",
    "        \"Custom1\": 341,\n",
    "        \"Custom2\": 300,\n",
    "    },\n",
    "]).set_index(\"Species\")\n",
    "metric_conversions_custom"
   ]
  },
  {
   "cell_type": "markdown",
   "id": "b26b3ec2",
   "metadata": {},
   "source": [
    "With such a `pd.DataFrame`, we can use custom conversions in our unit registry as shown."
   ]
  },
  {
   "cell_type": "code",
   "execution_count": 3,
   "id": "9f298b21",
   "metadata": {},
   "outputs": [
    {
     "data": {
      "text/plain": [
       "'N2O: 1 N2O'"
      ]
     },
     "metadata": {},
     "output_type": "display_data"
    },
    {
     "data": {
      "text/plain": [
       "'N2O in CO2-equivalent: 341.0 CO2'"
      ]
     },
     "metadata": {},
     "output_type": "display_data"
    }
   ],
   "source": [
    "# initialise the unit registry with custom conversions\n",
    "unit_registry = ScmUnitRegistry(metric_conversions=metric_conversions_custom)\n",
    "# add standard conversions before moving on\n",
    "unit_registry.add_standards()\n",
    "\n",
    "# start with e.g. N2O\n",
    "nitrous_oxide = unit_registry(\"N2O\")\n",
    "display(f\"N2O: {nitrous_oxide}\")\n",
    "\n",
    "# our unit registry allows us to make conversions using the \n",
    "# conversion factors we previously defined\n",
    "with unit_registry.context(\"Custom1\"):\n",
    "    display(f\"N2O in CO2-equivalent: {nitrous_oxide.to('CO2')}\")"
   ]
  }
 ],
 "metadata": {
  "kernelspec": {
   "display_name": "Python 3 (ipykernel)",
   "language": "python",
   "name": "python3"
  },
  "language_info": {
   "codemirror_mode": {
    "name": "ipython",
    "version": 3
   },
   "file_extension": ".py",
   "mimetype": "text/x-python",
   "name": "python",
   "nbconvert_exporter": "python",
   "pygments_lexer": "ipython3",
   "version": "3.7.9"
  }
 },
 "nbformat": 4,
 "nbformat_minor": 5
}
